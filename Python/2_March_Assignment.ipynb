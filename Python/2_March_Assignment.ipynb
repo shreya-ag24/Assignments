{
 "cells": [
  {
   "cell_type": "markdown",
   "id": "2876383b",
   "metadata": {},
   "source": [
    "1. Create a python program to find duplicate files by content. User will \n",
    "input path and it will scan all directories, sub-directories to find all \n",
    "duplicates files.\n",
    "Delete the found duplicate file"
   ]
  },
  {
   "cell_type": "code",
   "execution_count": null,
   "id": "8cbc2be0",
   "metadata": {},
   "outputs": [],
   "source": [
    "import hashlib\n",
    "import os\n",
    "\n",
    "path=\"C://Users/shragrawal/Desktop\"\n",
    "dirList=os.walk(path)\n",
    "\n",
    "hashList=[]\n",
    "dupList=[]\n",
    "for (dir_path,dir_names,file_names) in os.walk(path):\n",
    "    print(dir_path,dir_names,file_names)\n",
    "    for i in file_names:\n",
    "        file_path=os.path.join(dir_path,i)\n",
    "        if '.txt' in i:\n",
    "            fileObj=open(file_path,'r')\n",
    "            str1=fileObj.read().encode()\n",
    "            hash1=hashlib.sha256(str1)\n",
    "        \n",
    "            if hash1.hexdigest() in hashList:\n",
    "                dupList.append(i)\n",
    "                os.remove(file_path)      # deleting the duplicate file\n",
    "            else:\n",
    "                hashList.append(hash1.hexdigest())\n",
    "        \n",
    "     \n",
    "\n",
    "            \n",
    "print(\"dupList = \",dupList)  "
   ]
  },
  {
   "cell_type": "markdown",
   "id": "067d3bf4",
   "metadata": {},
   "source": [
    "2. Generate random Password with exact length = 6, with minimum 1 uppercase, 2 lowercase, 2 digits, and remaining special characters."
   ]
  },
  {
   "cell_type": "code",
   "execution_count": 7,
   "id": "0a083e06",
   "metadata": {},
   "outputs": [
    {
     "name": "stdout",
     "output_type": "stream",
     "text": [
      "3n/3Fh\n"
     ]
    }
   ],
   "source": [
    "import string\n",
    "import random\n",
    "\n",
    "result_string = ''.join(random.choice(string.ascii_uppercase))\n",
    "result_string+=''.join(random.choice(string.ascii_lowercase) for x in range(2))\n",
    "result_string+=''.join(random.choice(string.digits)for x in range(2))\n",
    "result_string+=''.join(random.choice(string.punctuation))\n",
    "\n",
    "str_final=list(result_string)\n",
    "random.shuffle(str_final)\n",
    "password=''.join(str_final)\n",
    "print(password)"
   ]
  },
  {
   "cell_type": "markdown",
   "id": "62f61191",
   "metadata": {},
   "source": [
    "     3. Create 2D array and update the same 2D array provided that every prime number position should be replaced by cube of the positioned number"
   ]
  },
  {
   "cell_type": "code",
   "execution_count": 10,
   "id": "d8d5ddde",
   "metadata": {},
   "outputs": [],
   "source": [
    "import numpy as np\n",
    "def prime(n):\n",
    "    count=0\n",
    "    if(n<2):\n",
    "        return False\n",
    "    for i in range(2,n//2+1):\n",
    "       \n",
    "        if n%i==0:\n",
    "            count+=1\n",
    "    if (count==0):\n",
    "        return True\n",
    "    else:\n",
    "        return False\n",
    "    \n",
    "\n",
    "\n",
    "\n",
    "        "
   ]
  },
  {
   "cell_type": "code",
   "execution_count": 22,
   "id": "a216a790",
   "metadata": {},
   "outputs": [
    {
     "name": "stdout",
     "output_type": "stream",
     "text": [
      " enter number of rows3\n",
      " enter number of columns3\n",
      " enter your values1\n",
      " enter your values2\n",
      " enter your values3\n",
      " enter your values4\n",
      " enter your values5\n",
      " enter your values6\n",
      " enter your values7\n",
      " enter your values8\n",
      " enter your values9\n",
      "[[  1.   2.  27.]\n",
      " [ 64.   5. 216.]\n",
      " [  7. 512.   9.]]\n"
     ]
    }
   ],
   "source": [
    "row=int(input(\" enter number of rows\"))\n",
    "column=int(input(\" enter number of columns\"))\n",
    "\n",
    "arr4=np.ones((row,column))\n",
    "for i in range(row):\n",
    "    for j in range(column):\n",
    "        arr4[i][j]=int(input(\" enter your values\"))\n",
    "        \n",
    "x=0\n",
    "for i in range(row):\n",
    "    for j in range(column):\n",
    "        \n",
    "        if (prime(x)):\n",
    "            arr4[i][j]=arr4[i][j]**3\n",
    "            x+=1\n",
    "        else:\n",
    "            x+=1\n",
    "print(arr4)            "
   ]
  },
  {
   "cell_type": "markdown",
   "id": "b7a8b2b9",
   "metadata": {},
   "source": [
    "    4. Python program to get the sum of every cubed value and its previous integer. "
   ]
  },
  {
   "cell_type": "code",
   "execution_count": 23,
   "id": "a020d600",
   "metadata": {},
   "outputs": [
    {
     "name": "stdout",
     "output_type": "stream",
     "text": [
      "[[  1.   2.  29.]\n",
      " [ 93.   5. 221.]\n",
      " [  7. 519.   9.]]\n"
     ]
    }
   ],
   "source": [
    "x=0\n",
    "prev_val=0\n",
    "for i in range(row):\n",
    "    for j in range(column):\n",
    "      \n",
    "        if (prime(x)):\n",
    "            arr4[i][j]=arr4[i][j]+prev_val\n",
    "            prev_val=arr4[i][j]\n",
    "            x+=1\n",
    "        else:\n",
    "            prev_val=arr4[i][j]\n",
    "            x+=1\n",
    "print(arr4)            "
   ]
  },
  {
   "cell_type": "markdown",
   "id": "ab97497a",
   "metadata": {},
   "source": [
    "    5. Given two arrays, find their intersection. Examples:\n",
    "     Input:  arr1[] = [1, 3, 4, 5, 7]\n",
    "             arr2[] = [2, 3, 5, 6 ]"
   ]
  },
  {
   "cell_type": "code",
   "execution_count": 15,
   "id": "1afe6309",
   "metadata": {},
   "outputs": [],
   "source": [
    "import numpy as np\n",
    "\n",
    "arr1=np.array([1, 3, 4, 5, 7])\n",
    "arr2=np.array([2, 3, 5, 6])\n",
    "intersection_array=[]\n",
    "for i in arr1:\n",
    "    for j in arr2:\n",
    "        if i==j:\n",
    "            intersection_array.append(j)\n",
    "                        "
   ]
  },
  {
   "cell_type": "code",
   "execution_count": 16,
   "id": "16e1c508",
   "metadata": {},
   "outputs": [
    {
     "name": "stdout",
     "output_type": "stream",
     "text": [
      "[3, 5]\n"
     ]
    }
   ],
   "source": [
    "print(intersection_array)"
   ]
  },
  {
   "cell_type": "markdown",
   "id": "03ac2145",
   "metadata": {},
   "source": [
    "    6. Create a 7 x 7  2D array having only multiples of 7. And return the last element of the same"
   ]
  },
  {
   "cell_type": "code",
   "execution_count": 21,
   "id": "b93ec3a4",
   "metadata": {},
   "outputs": [
    {
     "name": "stdout",
     "output_type": "stream",
     "text": [
      "343.0\n"
     ]
    }
   ],
   "source": [
    "arr3=np.ones((7,7))\n",
    "\n",
    "x=1\n",
    "for i in range(len(arr3)):\n",
    "    for j in range(len(arr3[i])):\n",
    "        arr3[i][j]= arr3[i][j]*x*7\n",
    "        x+=1\n",
    "        \n",
    "print(arr3[6][6])        \n"
   ]
  },
  {
   "cell_type": "markdown",
   "id": "b891fa61",
   "metadata": {},
   "source": [
    "    7. Checker Board Patten using Numpy:\n",
    "     [   1   0   1   0   1   0   1\n",
    "         0   1   0   1   0   1   0\n",
    "         1   0   1   0   1   0   1\n",
    "         0   1   0   1   0   1   0\n",
    "         1   0   1   0   1   0   1  ]"
   ]
  },
  {
   "cell_type": "code",
   "execution_count": 9,
   "id": "3b6f677e",
   "metadata": {},
   "outputs": [
    {
     "name": "stdout",
     "output_type": "stream",
     "text": [
      "[[1 0 1 0 1 0 1]\n",
      " [0 1 0 1 0 1 0]\n",
      " [1 0 1 0 1 0 1]\n",
      " [0 1 0 1 0 1 0]\n",
      " [1 0 1 0 1 0 1]]\n"
     ]
    }
   ],
   "source": [
    "arr4=np.ones((5,7),dtype=\"int8\")\n",
    "arr4[1::2,0::2]=0\n",
    "arr4[0::2,1::2]=0\n",
    "print(arr4)"
   ]
  },
  {
   "cell_type": "markdown",
   "id": "5c09816d",
   "metadata": {},
   "source": [
    "    8. Create a given Matrix:\n",
    "    [  A,     B,     C,       D\n",
    "       E,      F,     G,       H\n",
    "       I,      a,      K,       L\n",
    "       M,    N,     o,       P\n",
    "       Q,     R,      S,       T\n",
    "       U,     0,     W,      O ]\n",
    "     Replace all the vowels by np.nan\n",
    "     A, E, I, O U  -- >  np.nan\n",
    "     Return the count of the missing values"
   ]
  },
  {
   "cell_type": "code",
   "execution_count": 8,
   "id": "9ff55372",
   "metadata": {},
   "outputs": [
    {
     "name": "stdout",
     "output_type": "stream",
     "text": [
      "[['nan' 'B' 'C' 'D']\n",
      " ['nan' 'F' 'G' 'H']\n",
      " ['nan' 'J' 'K' 'L']\n",
      " ['M' 'N' 'nan' 'P']\n",
      " ['Q' 'R' 'S' 'T']\n",
      " ['nan' 'V' 'W' 'X']]\n",
      "Number of missing values :  5\n"
     ]
    }
   ],
   "source": [
    "import numpy as np\n",
    "import string\n",
    "\n",
    "list1=list(string.ascii_uppercase[:-2])\n",
    "vowel =['A','E','I','O','U']\n",
    "count=0\n",
    "\n",
    "for i in range(0,len(list1)):\n",
    "    if list1[i] in vowel:\n",
    "        list1[i]=np.nan\n",
    "        count+=1\n",
    "        \n",
    "array_1=np.array(list1).reshape(6,4)\n",
    "print(array_1)\n",
    "print(\"Number of missing values : \",count)\n"
   ]
  }
 ],
 "metadata": {
  "kernelspec": {
   "display_name": "Python 3 (ipykernel)",
   "language": "python",
   "name": "python3"
  },
  "language_info": {
   "codemirror_mode": {
    "name": "ipython",
    "version": 3
   },
   "file_extension": ".py",
   "mimetype": "text/x-python",
   "name": "python",
   "nbconvert_exporter": "python",
   "pygments_lexer": "ipython3",
   "version": "3.9.13"
  }
 },
 "nbformat": 4,
 "nbformat_minor": 5
}
